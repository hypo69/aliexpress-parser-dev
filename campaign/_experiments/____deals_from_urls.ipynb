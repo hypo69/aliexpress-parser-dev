{
 "cells": [
  {
   "cell_type": "code",
   "execution_count": 1,
   "id": "3ec53a2c",
   "metadata": {},
   "outputs": [
    {
     "name": "stdout",
     "output_type": "stream",
     "text": [
      "Master password for KeePass database: ········\n"
     ]
    }
   ],
   "source": [
    "import header\n",
    "from src.utils import pprint\n",
    "from src.suppliers.aliexpress import DealsFromURLS"
   ]
  },
  {
   "cell_type": "code",
   "execution_count": 2,
   "id": "e3622378",
   "metadata": {},
   "outputs": [],
   "source": [
    "deals_parser = DealsFromURLS(language='EN', currency= 'USD')"
   ]
  },
  {
   "cell_type": "code",
   "execution_count": 3,
   "id": "d990a397",
   "metadata": {},
   "outputs": [
    {
     "name": "stderr",
     "output_type": "stream",
     "text": [
      "2024-06-16 01:53:25,839 - INFO - \u001b[32m\u001b[40mStart parsing file: C:\\Users\\user\\Documents\\repos\\hypotez\\data\\aliexpress\\event_promotion\\150624_baseus_deals.csv None\u001b[0m\n",
      "2024-06-16 01:53:28,404 - INFO - \u001b[34m\u001b[43mImage saved locally to:C:\\Users\\user\\Documents\\repos\\hypotez\\tmp\\aliexpress\\parsed_deals\\images\\3256806549168768.png None\u001b[0m\n",
      "NoneType: None\n",
      "2024-06-16 01:53:28,444 - DEBUG - \u001b[36m\u001b[40mFile will be saved to C:\\Users\\user\\Documents\\repos\\hypotez\\tmp\\aliexpress\\parsed_deals\\3256806549168768.json None\u001b[0m\n"
     ]
    }
   ],
   "source": [
    "deal = deals_parser.get_next_deal()"
   ]
  },
  {
   "cell_type": "code",
   "execution_count": 4,
   "id": "6124ac00",
   "metadata": {},
   "outputs": [
    {
     "name": "stdout",
     "output_type": "stream",
     "text": [
      "namespace(app_sale_price='121.22',\n",
      "          original_price='174.99',\n",
      "          product_detail_url='https://www.aliexpress.com/item/3256806549168768.html?pdp_npi=4%40dis%21USD%21174.99%21121.22%21%21%21174.99%21121.22%21%402102e91217184920069627012d1420%2112000038160990715%21affd%21%21%21',\n",
      "          product_small_image_urls=['https://ae01.alicdn.com/kf/S525515ac7e09448491d029758d95789ei.jpg',\n",
      "                                    'https://ae01.alicdn.com/kf/S5bf099ecf2de41c1b5b50c195be2b26em.jpg',\n",
      "                                    'https://ae01.alicdn.com/kf/S2f70d984731546be8f4b8e7840018dedE.jpg',\n",
      "                                    'https://ae01.alicdn.com/kf/S74f9cf37e5b244a0ba2b7c7059cc0c375.jpg',\n",
      "                                    'https://ae01.alicdn.com/kf/S7c76f53ff349490abf8cf335473488efD.jpg',\n",
      "                                    'https://ae01.alicdn.com/kf/Sc3b77a18ce114065a6ce8866e33a5146N.jpg'],\n",
      "          second_level_category_name='Computer Peripherals',\n",
      "          target_sale_price='121.22',\n",
      "          second_level_category_id=200001081,\n",
      "          discount='30%',\n",
      "          product_main_image_url='https://ae01.alicdn.com/kf/S525515ac7e09448491d029758d95789ei.jpg',\n",
      "          first_level_category_id=7,\n",
      "          target_sale_price_currency='USD',\n",
      "          target_app_sale_price_currency='USD',\n",
      "          original_price_currency='USD',\n",
      "          shop_url='https://www.aliexpress.com/store/1101213261',\n",
      "          target_original_price_currency='USD',\n",
      "          product_id=3256806549168768,\n",
      "          target_original_price='174.99',\n",
      "          product_video_url='https://video.aliexpress-media.com/play/u/ae_sg_item/228486479/p/1/e/6/t/10301/1100223387579.mp4',\n",
      "          first_level_category_name='Computer & Office',\n",
      "          promotion_link='https://s.click.aliexpress.com/s/NdpwztbAIgDMmxGbP8fFks7yUFfsHjzlImSYmA68h7xlMRgzueFsRgokQ9f9hcpVKttxtQE2VzIoqkXJXrpOr6uR3zv7mP4CDO9CddoFf4t0QE5DXPy8Pgjhz4irfQSEjEGUmy5yF3A5gJ9h3NYjLMgqIMqa3zcpq5E2BC3W5EbV40Dm9buQxWpZzw1lbX8Zm2kZtNIa4KyDieNjsH7IU6Yv8StELKVvT9r4eFAaXPGhwHsgaDqdNcmY116r3GC2YvmvR57S69fGyn8Tt4pCtmLccxQz3g0h5RxzOjpeUC04rVf5QMFixTkIJCNgGAHnYNwwg7tJotJJevHDPzpkcE0zNuvjiS2K1s1hJvCLFTleyqzK4E0eYa24rC32FOnE79kUCcJSGV4I9YKqLQo71xez3DS2OAJ7X9cNtmTvTXN8HnsLmIaqOLP3dmQfbv3JFD6Rjs2VypgJ4MV6oAO44g8X4N5hyFQKl44D83eoDdEtBudQj4jHG8nu13uq6iAJ0AoFMFhHpjaslZqnErYeyYgBdnd7zx8YFNklqO2tvg8m9iaG4vUFqXZByJgEkaW9Z94c1Jts4DQXYjuMtrwaT7EkJ2EvNlpehWdIdx6rhUxqrr6UBWyCnOOprCRN24b7IXYcPggsX1ZQkZ35HEH7wk3w1p39e0EtxnIv8YGOQuNbUlIjQwOS7wBupqgdpqWg25mI8kWCCiQAKBRO5OZu12SpCrGkIse2nS4KjekgXBduwOcJrVBmHqjb2FsEFaL0DgRgKYT9U4zpdz7lEn0uojw5PFTqcGwuZ1ucHsbDlIFa774SqK31SYuNP9ZS4Foko4jfETcqKgdSleZ2FYQbAzfR43ssPwFjKl28xr5dDeQpa9V1CfFTLdxeR4q7FdgScqyWRIWc3f2TnD4330kG91uGMzS7uMCLb9TQR2agvOGNR40DBsFluGBiuAvd2ODNHKgKYGHCFtnUHxi39oNaVzPMCqPY8ME9SrMDpcUmCF5DZ',\n",
      "          evaluate_rate='100.0%',\n",
      "          sale_price='121.22',\n",
      "          product_title='Baseus USB C to DP 4K@60Hz HDMI-Compatible '\n",
      "                        'DisplayPort 11-IN-1 Docking Station Triple Display '\n",
      "                        'RJ45 PD100W for Window USB 3.1 HUB',\n",
      "          hot_product_commission_rate='0.0%',\n",
      "          shop_id=1101213261,\n",
      "          app_sale_price_currency='USD',\n",
      "          sale_price_currency='USD',\n",
      "          lastest_volume=66,\n",
      "          target_app_sale_price='121.22',\n",
      "          commission_rate='3.0%',\n",
      "          image_local_saved_path='C:\\\\Users\\\\user\\\\Documents\\\\repos\\\\hypotez\\\\tmp\\\\aliexpress\\\\parsed_deals\\\\images\\\\3256806549168768.png')\n"
     ]
    }
   ],
   "source": [
    "pprint(deal)"
   ]
  },
  {
   "cell_type": "code",
   "execution_count": null,
   "id": "60ca1265",
   "metadata": {},
   "outputs": [],
   "source": []
  }
 ],
 "metadata": {
  "kernelspec": {
   "display_name": "Python 3 (ipykernel)",
   "language": "python",
   "name": "python3"
  },
  "language_info": {
   "codemirror_mode": {
    "name": "ipython",
    "version": 3
   },
   "file_extension": ".py",
   "mimetype": "text/x-python",
   "name": "python",
   "nbconvert_exporter": "python",
   "pygments_lexer": "ipython3",
   "version": "3.11.9"
  }
 },
 "nbformat": 4,
 "nbformat_minor": 5
}
